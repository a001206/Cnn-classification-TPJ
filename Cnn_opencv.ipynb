{
 "cells": [
  {
   "cell_type": "code",
   "execution_count": 2,
   "metadata": {},
   "outputs": [],
   "source": [
    "import pathlib\n",
    "import PIL\n",
    "from PIL import Image\n",
    "import matplotlib.pyplot as plt\n",
    "import numpy as np\n",
    "import os\n",
    "import tensorflow as tf\n",
    "from tensorflow.keras.preprocessing import image_dataset_from_directory\n",
    "from tensorflow import keras\n",
    "from tensorflow.keras import layers\n",
    "from tensorflow.keras.models import Sequential\n",
    "import glob\n",
    "import cv2\n",
    "from keras import models"
   ]
  },
  {
   "cell_type": "code",
   "execution_count": 3,
   "metadata": {},
   "outputs": [
    {
     "name": "stdout",
     "output_type": "stream",
     "text": [
      "Metal device set to: Apple M1\n",
      "\n",
      "systemMemory: 8.00 GB\n",
      "maxCacheSize: 2.67 GB\n",
      "\n"
     ]
    },
    {
     "name": "stderr",
     "output_type": "stream",
     "text": [
      "2022-05-06 19:32:42.098403: I tensorflow/core/common_runtime/pluggable_device/pluggable_device_factory.cc:305] Could not identify NUMA node of platform GPU ID 0, defaulting to 0. Your kernel may not have been built with NUMA support.\n",
      "2022-05-06 19:32:42.098530: I tensorflow/core/common_runtime/pluggable_device/pluggable_device_factory.cc:271] Created TensorFlow device (/job:localhost/replica:0/task:0/device:GPU:0 with 0 MB memory) -> physical PluggableDevice (device: 0, name: METAL, pci bus id: <undefined>)\n"
     ]
    },
    {
     "data": {
      "text/plain": [
       "<tensorflow.python.training.tracking.util.CheckpointLoadStatus at 0x2900c1a60>"
      ]
     },
     "execution_count": 3,
     "metadata": {},
     "output_type": "execute_result"
    }
   ],
   "source": [
    "checkpoint_path = \"training_1/cp.ckpt\"\n",
    "checkpoint_dir = os.path.dirname(checkpoint_path)\n",
    "\n",
    "model = tf.keras.models.load_model('my_model/O_R_model.h5')\n",
    "model.load_weights(tf.train.latest_checkpoint(checkpoint_dir))\n",
    "# video = cv2.VideoCapture(0)"
   ]
  },
  {
   "cell_type": "code",
   "execution_count": 5,
   "metadata": {},
   "outputs": [
    {
     "name": "stdout",
     "output_type": "stream",
     "text": [
      "[[ 2.5187712 -5.4074097]]\n"
     ]
    }
   ],
   "source": [
    "predict = '/Users/ganghaeseong/Desktop/다운로드 (2).jpeg'\n",
    "\n",
    "img = keras.preprocessing.image.load_img(\n",
    "    predict, target_size=(180, 180)\n",
    ")\n",
    "img_array = keras.preprocessing.image.img_to_array(img)\n",
    "img_array = tf.expand_dims(img_array, 0) # Create a batch\n",
    "\n",
    "predictions = model.predict(img_array)\n",
    "score = tf.nn.softmax(predictions[0])\n",
    "\n",
    "print(predictions)"
   ]
  },
  {
   "cell_type": "code",
   "execution_count": null,
   "metadata": {},
   "outputs": [],
   "source": [
    "# while True:\n",
    "#         _, frame = video.read()\n",
    "\n",
    "#         #Convert the captured frame into RGB\n",
    "#         im = Image.fromarray(frame, 'RGB')\n",
    "\n",
    "#         #Resizing into dimensions you used while training\n",
    "#         im = im.resize((180,180))\n",
    "#         img_array = np.array(im)\n",
    "\n",
    "#         #Expand dimensions to match the 4D Tensor shape.\n",
    "#         img_array = np.expand_dims(img_array, axis=0)\n",
    "\n",
    "#         #Calling the predict function using keras\n",
    "#         prediction = model.predict(img_array)#[0][0]\n",
    "#         print(prediction)\n",
    "#         #Customize this part to your liking...\n",
    "#         # if(prediction == 1 or prediction == 0):\n",
    "#         #     print(\"No Human\")\n",
    "#         # elif(prediction < 0.5 and prediction != 0):\n",
    "#         #     print(\"Female\")\n",
    "#         # elif(prediction > 0.5 and prediction != 1):\n",
    "#         #     print(\"Male\")\n",
    "#         if(prediction == 0):\n",
    "#             print('O')\n",
    "#         elif(prediction == 1):\n",
    "#             print('R')\n",
    "\n",
    "#         cv2.imshow(\"Prediction\", frame)\n",
    "#         key=cv2.waitKey(1)\n",
    "#         if key == ord('q'):\n",
    "#                 break\n",
    "# video.release()\n",
    "# cv2.destroyAllWindows()"
   ]
  },
  {
   "cell_type": "code",
   "execution_count": null,
   "metadata": {},
   "outputs": [],
   "source": []
  }
 ],
 "metadata": {
  "interpreter": {
   "hash": "a7cbd2115faf408043cc6985de98a92f97cf20e838eb5e876f6ede7feb59e998"
  },
  "kernelspec": {
   "display_name": "Python 3.8.13 ('tf')",
   "language": "python",
   "name": "python3"
  },
  "language_info": {
   "codemirror_mode": {
    "name": "ipython",
    "version": 3
   },
   "file_extension": ".py",
   "mimetype": "text/x-python",
   "name": "python",
   "nbconvert_exporter": "python",
   "pygments_lexer": "ipython3",
   "version": "3.8.13"
  },
  "orig_nbformat": 4
 },
 "nbformat": 4,
 "nbformat_minor": 2
}
