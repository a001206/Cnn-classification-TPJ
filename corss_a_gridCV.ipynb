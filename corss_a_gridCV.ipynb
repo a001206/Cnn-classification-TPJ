{
  "nbformat": 4,
  "nbformat_minor": 0,
  "metadata": {
    "colab": {
      "name": "corss_a_gridCV.ipynb",
      "provenance": [],
      "authorship_tag": "ABX9TyPYh0xX3egnhgmkubOfrhFA",
      "include_colab_link": true
    },
    "kernelspec": {
      "name": "python3",
      "display_name": "Python 3"
    },
    "language_info": {
      "name": "python"
    }
  },
  "cells": [
    {
      "cell_type": "markdown",
      "metadata": {
        "id": "view-in-github",
        "colab_type": "text"
      },
      "source": [
        "<a href=\"https://colab.research.google.com/github/a001206/Cnn-classification-TPJ/blob/main/corss_a_gridCV.ipynb\" target=\"_parent\"><img src=\"https://colab.research.google.com/assets/colab-badge.svg\" alt=\"Open In Colab\"/></a>"
      ]
    },
    {
      "cell_type": "code",
      "execution_count": 8,
      "metadata": {
        "id": "huX5h6eHx1aM"
      },
      "outputs": [],
      "source": [
        "from sklearn.tree import DecisionTreeClassifier\n",
        "from sklearn.metrics import accuracy_score\n",
        "from sklearn.model_selection import cross_val_score, train_test_split, GridSearchCV\n",
        "from sklearn.datasets import load_iris\n",
        "import numpy as np\n",
        "import pandas as pd"
      ]
    },
    {
      "cell_type": "code",
      "source": [
        "iris_data = load_iris()\n",
        "\n",
        "model = DecisionTreeClassifier(random_state = 156)\n",
        "\n",
        "data = iris_data.data\n",
        "label = iris_data.target\n",
        "\n",
        "score = cross_val_score(model, data, label, scoring = 'accuracy', cv = 3)\n",
        "\n",
        "print('교차 검증별 정확도: ', np.round(score, 4))\n",
        "print('평균 검증 정확도 ', np.round(np.mean(score), 4))"
      ],
      "metadata": {
        "colab": {
          "base_uri": "https://localhost:8080/"
        },
        "id": "PY2EaqBmx_1Z",
        "outputId": "297cef58-b89d-4ce9-f7d2-76f25baee958"
      },
      "execution_count": 4,
      "outputs": [
        {
          "output_type": "stream",
          "name": "stdout",
          "text": [
            "교차 검증별 정확도:  [0.98 0.94 0.98]\n",
            "평균 검증 정확도  0.9667\n"
          ]
        }
      ]
    },
    {
      "cell_type": "markdown",
      "source": [
        "gridCV\n"
      ],
      "metadata": {
        "id": "6zpVAOP6zwG4"
      }
    },
    {
      "cell_type": "code",
      "source": [
        "iris = load_iris()\n",
        "\n",
        "X_train, X_test, y_train, y_test = train_test_split(iris.data, iris.target, test_size = 0.2, random_state = 121)\n",
        "\n",
        "parameters = {'max_depth':[1,2,3], 'min_samples_split': [2,3]}\n",
        "#딕셔너리 안에 값은 무조건 list"
      ],
      "metadata": {
        "id": "1_lVvS8zymd4"
      },
      "execution_count": 7,
      "outputs": []
    },
    {
      "cell_type": "code",
      "source": [
        "grid_dtree = GridSearchCV(model, param_grid = parameters, cv =3 , refit = True, return_train_score= True)\n",
        "grid_dtree.fit(X_train, y_train)\n",
        "#refit으로 인해 최적 파라미터로 학습\n",
        "scores_df = pd.DataFrame(grid_dtree.cv_results_)\n",
        "scores_df[['params', 'mean_test_score', 'rank_test_score', 'split0_test_score', 'split1_test_score', 'split2_test_score']]\n"
      ],
      "metadata": {
        "id": "Bm4pbfpZ0H8p"
      },
      "execution_count": null,
      "outputs": []
    },
    {
      "cell_type": "code",
      "source": [
        "scores_df.info()"
      ],
      "metadata": {
        "colab": {
          "base_uri": "https://localhost:8080/"
        },
        "id": "Hv5R-9721GXa",
        "outputId": "df3acddb-02c6-4fc6-cac1-45a59f8e6bcd"
      },
      "execution_count": 18,
      "outputs": [
        {
          "output_type": "stream",
          "name": "stdout",
          "text": [
            "<class 'pandas.core.frame.DataFrame'>\n",
            "RangeIndex: 6 entries, 0 to 5\n",
            "Data columns (total 18 columns):\n",
            " #   Column                   Non-Null Count  Dtype  \n",
            "---  ------                   --------------  -----  \n",
            " 0   mean_fit_time            6 non-null      float64\n",
            " 1   std_fit_time             6 non-null      float64\n",
            " 2   mean_score_time          6 non-null      float64\n",
            " 3   std_score_time           6 non-null      float64\n",
            " 4   param_max_depth          6 non-null      object \n",
            " 5   param_min_samples_split  6 non-null      object \n",
            " 6   params                   6 non-null      object \n",
            " 7   split0_test_score        6 non-null      float64\n",
            " 8   split1_test_score        6 non-null      float64\n",
            " 9   split2_test_score        6 non-null      float64\n",
            " 10  mean_test_score          6 non-null      float64\n",
            " 11  std_test_score           6 non-null      float64\n",
            " 12  rank_test_score          6 non-null      int32  \n",
            " 13  split0_train_score       6 non-null      float64\n",
            " 14  split1_train_score       6 non-null      float64\n",
            " 15  split2_train_score       6 non-null      float64\n",
            " 16  mean_train_score         6 non-null      float64\n",
            " 17  std_train_score          6 non-null      float64\n",
            "dtypes: float64(14), int32(1), object(3)\n",
            "memory usage: 968.0+ bytes\n"
          ]
        }
      ]
    },
    {
      "cell_type": "code",
      "source": [
        "print('최적 파라미터: ', grid_dtree.best_params_)\n",
        "print('최고 정확도: {0:.4f}'.format(grid_dtree.best_score_))\n",
        "\n",
        "pred = grid_dtree.predict(X_test)\n",
        "print('테스트 데이터 정확도: {0:.4f}'.format(accuracy_score(y_test, pred)))"
      ],
      "metadata": {
        "colab": {
          "base_uri": "https://localhost:8080/"
        },
        "id": "MY9hLdXV1Mlt",
        "outputId": "fd9ec099-d8ee-4b47-8826-009feba2444b"
      },
      "execution_count": 19,
      "outputs": [
        {
          "output_type": "stream",
          "name": "stdout",
          "text": [
            "최적 파라미터:  {'max_depth': 3, 'min_samples_split': 2}\n",
            "최고 정확도: 0.9750\n",
            "테스트 데이터 정확도: 0.9667\n"
          ]
        }
      ]
    },
    {
      "cell_type": "code",
      "source": [
        "estimator = grid_dtree.best_estimator_#학습이 된 estimator\n",
        "\n",
        "pred = estimator.predict(X_test)\n",
        "print('테스트 데이터 정확도: {0:.4f}'.format(accuracy_score(y_test, pred)))"
      ],
      "metadata": {
        "colab": {
          "base_uri": "https://localhost:8080/"
        },
        "id": "G07WPZV_37Xi",
        "outputId": "9fed0dab-0014-43e0-e4f0-df0d333cfc72"
      },
      "execution_count": 20,
      "outputs": [
        {
          "output_type": "stream",
          "name": "stdout",
          "text": [
            "테스트 데이터 정확도: 0.9667\n"
          ]
        }
      ]
    },
    {
      "cell_type": "code",
      "source": [
        ""
      ],
      "metadata": {
        "id": "e8WRYyhH4Qs-"
      },
      "execution_count": null,
      "outputs": []
    }
  ]
}